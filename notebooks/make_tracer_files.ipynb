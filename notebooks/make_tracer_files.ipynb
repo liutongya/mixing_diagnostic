{
 "cells": [
  {
   "cell_type": "code",
   "execution_count": 78,
   "metadata": {
    "ExecuteTime": {
     "end_time": "2021-06-18T12:35:00.587659Z",
     "start_time": "2021-06-18T12:35:00.278969Z"
    }
   },
   "outputs": [],
   "source": [
    "import xarray as xr\n",
    "import numpy as np\n",
    "from matplotlib import pyplot as plt\n",
    "from xmitgcm import open_mdsdataset\n",
    "from xgcm import Grid\n",
    "%matplotlib inline"
   ]
  },
  {
   "cell_type": "code",
   "execution_count": 90,
   "metadata": {
    "ExecuteTime": {
     "end_time": "2021-06-18T14:04:21.224966Z",
     "start_time": "2021-06-18T13:59:01.426838Z"
    }
   },
   "outputs": [
    {
     "data": {
      "text/html": [
       "<pre>&lt;xarray.Dataset&gt;\n",
       "Dimensions:  (XC: 3600, XG: 3600, YC: 1600, YG: 1600, Z: 1, Zl: 1, Zp1: 2, Zu: 1, time: 9859)\n",
       "Coordinates:\n",
       "  * XC       (XC) &gt;f4 0.05 0.15 0.25 0.35 0.45 ... 359.65 359.75 359.85 359.95\n",
       "  * YC       (YC) &gt;f4 -79.95 -79.85 -79.75 -79.65 ... 79.65 79.75 79.85 79.95\n",
       "  * XG       (XG) &gt;f4 -2.7755576e-17 0.1 0.2 0.3 0.4 ... 359.6 359.7 359.8 359.9\n",
       "  * YG       (YG) &gt;f4 -80.0 -79.9 -79.8 -79.7 -79.6 ... 79.5 79.6 79.7 79.8 79.9\n",
       "  * Z        (Z) &gt;f4 -50.0\n",
       "  * Zp1      (Zp1) &gt;f4 0.0 -100.0\n",
       "  * Zu       (Zu) &gt;f4 -100.0\n",
       "  * Zl       (Zl) &gt;f4 0.0\n",
       "    rA       (YC, XC) &gt;f4 dask.array&lt;chunksize=(1600, 3600), meta=np.ndarray&gt;\n",
       "    dxG      (YG, XC) &gt;f4 dask.array&lt;chunksize=(1600, 3600), meta=np.ndarray&gt;\n",
       "    dyG      (YC, XG) &gt;f4 dask.array&lt;chunksize=(1600, 3600), meta=np.ndarray&gt;\n",
       "    Depth    (YC, XC) &gt;f4 dask.array&lt;chunksize=(1600, 3600), meta=np.ndarray&gt;\n",
       "    rAz      (YG, XG) &gt;f4 dask.array&lt;chunksize=(1600, 3600), meta=np.ndarray&gt;\n",
       "    dxC      (YC, XG) &gt;f4 dask.array&lt;chunksize=(1600, 3600), meta=np.ndarray&gt;\n",
       "    dyC      (YG, XC) &gt;f4 dask.array&lt;chunksize=(1600, 3600), meta=np.ndarray&gt;\n",
       "    rAw      (YC, XG) &gt;f4 dask.array&lt;chunksize=(1600, 3600), meta=np.ndarray&gt;\n",
       "    rAs      (YG, XC) &gt;f4 dask.array&lt;chunksize=(1600, 3600), meta=np.ndarray&gt;\n",
       "    drC      (Zp1) &gt;f4 dask.array&lt;chunksize=(2,), meta=np.ndarray&gt;\n",
       "    drF      (Z) &gt;f4 dask.array&lt;chunksize=(1,), meta=np.ndarray&gt;\n",
       "    PHrefC   (Z) &gt;f4 dask.array&lt;chunksize=(1,), meta=np.ndarray&gt;\n",
       "    PHrefF   (Zp1) &gt;f4 dask.array&lt;chunksize=(2,), meta=np.ndarray&gt;\n",
       "    hFacC    (YC, XC) &gt;f4 dask.array&lt;chunksize=(1600, 3600), meta=np.ndarray&gt;\n",
       "    hFacW    (YC, XG) &gt;f4 dask.array&lt;chunksize=(1600, 3600), meta=np.ndarray&gt;\n",
       "    hFacS    (YG, XC) &gt;f4 dask.array&lt;chunksize=(1600, 3600), meta=np.ndarray&gt;\n",
       "    maskC    (YC, XC) bool dask.array&lt;chunksize=(1600, 3600), meta=np.ndarray&gt;\n",
       "    maskW    (YC, XG) bool dask.array&lt;chunksize=(1600, 3600), meta=np.ndarray&gt;\n",
       "    maskS    (YG, XC) bool dask.array&lt;chunksize=(1600, 3600), meta=np.ndarray&gt;\n",
       "    rhoRef   (Z) &gt;f4 dask.array&lt;chunksize=(1,), meta=np.ndarray&gt;\n",
       "    iter     (time) int64 dask.array&lt;chunksize=(1,), meta=np.ndarray&gt;\n",
       "  * time     (time) timedelta64[ns] 00:00:01 00:00:02 ... 02:44:18 02:44:19\n",
       "Data variables:\n",
       "    UVEL     (time, YC, XG) float32 dask.array&lt;chunksize=(1, 1600, 3600), meta=np.ndarray&gt;\n",
       "    VVEL     (time, YG, XC) float32 dask.array&lt;chunksize=(1, 1600, 3600), meta=np.ndarray&gt;\n",
       "    PhiVEL   (time, YC, XC) float32 dask.array&lt;chunksize=(1, 1600, 3600), meta=np.ndarray&gt;\n",
       "    PsiVEL   (time, YG, XG) float32 dask.array&lt;chunksize=(1, 1600, 3600), meta=np.ndarray&gt;</pre>"
      ],
      "text/plain": [
       "<xarray.Dataset>\n",
       "Dimensions:  (XC: 3600, XG: 3600, YC: 1600, YG: 1600, Z: 1, Zl: 1, Zp1: 2, Zu: 1, time: 9859)\n",
       "Coordinates:\n",
       "  * XC       (XC) >f4 0.05 0.15 0.25 0.35 0.45 ... 359.65 359.75 359.85 359.95\n",
       "  * YC       (YC) >f4 -79.95 -79.85 -79.75 -79.65 ... 79.65 79.75 79.85 79.95\n",
       "  * XG       (XG) >f4 -2.7755576e-17 0.1 0.2 0.3 0.4 ... 359.6 359.7 359.8 359.9\n",
       "  * YG       (YG) >f4 -80.0 -79.9 -79.8 -79.7 -79.6 ... 79.5 79.6 79.7 79.8 79.9\n",
       "  * Z        (Z) >f4 -50.0\n",
       "  * Zp1      (Zp1) >f4 0.0 -100.0\n",
       "  * Zu       (Zu) >f4 -100.0\n",
       "  * Zl       (Zl) >f4 0.0\n",
       "    rA       (YC, XC) >f4 dask.array<chunksize=(1600, 3600), meta=np.ndarray>\n",
       "    dxG      (YG, XC) >f4 dask.array<chunksize=(1600, 3600), meta=np.ndarray>\n",
       "    dyG      (YC, XG) >f4 dask.array<chunksize=(1600, 3600), meta=np.ndarray>\n",
       "    Depth    (YC, XC) >f4 dask.array<chunksize=(1600, 3600), meta=np.ndarray>\n",
       "    rAz      (YG, XG) >f4 dask.array<chunksize=(1600, 3600), meta=np.ndarray>\n",
       "    dxC      (YC, XG) >f4 dask.array<chunksize=(1600, 3600), meta=np.ndarray>\n",
       "    dyC      (YG, XC) >f4 dask.array<chunksize=(1600, 3600), meta=np.ndarray>\n",
       "    rAw      (YC, XG) >f4 dask.array<chunksize=(1600, 3600), meta=np.ndarray>\n",
       "    rAs      (YG, XC) >f4 dask.array<chunksize=(1600, 3600), meta=np.ndarray>\n",
       "    drC      (Zp1) >f4 dask.array<chunksize=(2,), meta=np.ndarray>\n",
       "    drF      (Z) >f4 dask.array<chunksize=(1,), meta=np.ndarray>\n",
       "    PHrefC   (Z) >f4 dask.array<chunksize=(1,), meta=np.ndarray>\n",
       "    PHrefF   (Zp1) >f4 dask.array<chunksize=(2,), meta=np.ndarray>\n",
       "    hFacC    (YC, XC) >f4 dask.array<chunksize=(1600, 3600), meta=np.ndarray>\n",
       "    hFacW    (YC, XG) >f4 dask.array<chunksize=(1600, 3600), meta=np.ndarray>\n",
       "    hFacS    (YG, XC) >f4 dask.array<chunksize=(1600, 3600), meta=np.ndarray>\n",
       "    maskC    (YC, XC) bool dask.array<chunksize=(1600, 3600), meta=np.ndarray>\n",
       "    maskW    (YC, XG) bool dask.array<chunksize=(1600, 3600), meta=np.ndarray>\n",
       "    maskS    (YG, XC) bool dask.array<chunksize=(1600, 3600), meta=np.ndarray>\n",
       "    rhoRef   (Z) >f4 dask.array<chunksize=(1,), meta=np.ndarray>\n",
       "    iter     (time) int64 dask.array<chunksize=(1,), meta=np.ndarray>\n",
       "  * time     (time) timedelta64[ns] 00:00:01 00:00:02 ... 02:44:18 02:44:19\n",
       "Data variables:\n",
       "    UVEL     (time, YC, XG) float32 dask.array<chunksize=(1, 1600, 3600), meta=np.ndarray>\n",
       "    VVEL     (time, YG, XC) float32 dask.array<chunksize=(1, 1600, 3600), meta=np.ndarray>\n",
       "    PhiVEL   (time, YC, XC) float32 dask.array<chunksize=(1, 1600, 3600), meta=np.ndarray>\n",
       "    PsiVEL   (time, YG, XG) float32 dask.array<chunksize=(1, 1600, 3600), meta=np.ndarray>"
      ]
     },
     "execution_count": 90,
     "metadata": {},
     "output_type": "execute_result"
    }
   ],
   "source": [
    "path = '/data/home/liutongya/RCLV/velocity/run_offline/run/'\n",
    "ds0 = open_mdsdataset(path, prefix={'Diag_stat'}).chunk()\n",
    "ds0"
   ]
  },
  {
   "cell_type": "code",
   "execution_count": 84,
   "metadata": {
    "ExecuteTime": {
     "end_time": "2021-06-18T13:55:27.380838Z",
     "start_time": "2021-06-18T13:55:27.377651Z"
    }
   },
   "outputs": [],
   "source": [
    "def write_field(fname, data):\n",
    "    print('wrote to file: ' + fname)\n",
    "    fid = open(fname, \"wb\")\n",
    "    data.tofile(fid)\n",
    "    fid.close()"
   ]
  },
  {
   "cell_type": "markdown",
   "metadata": {},
   "source": [
    "## LAT"
   ]
  },
  {
   "cell_type": "code",
   "execution_count": 91,
   "metadata": {
    "ExecuteTime": {
     "end_time": "2021-06-18T14:04:52.565377Z",
     "start_time": "2021-06-18T14:04:46.445045Z"
    }
   },
   "outputs": [
    {
     "data": {
      "text/plain": [
       "<matplotlib.colorbar.Colorbar at 0x7f8a217f6a10>"
      ]
     },
     "execution_count": 91,
     "metadata": {},
     "output_type": "execute_result"
    },
    {
     "data": {
      "image/png": "[encoded data removed]",
      "text/plain": [
       "<Figure size 432x288 with 2 Axes>"
      ]
     },
     "metadata": {
      "needs_background": "light"
     },
     "output_type": "display_data"
    }
   ],
   "source": [
    "lat2d = np.zeros((1600, 3600))\n",
    "\n",
    "for i in np.arange(3600):\n",
    "    lat2d[:, i] = ds0.YC.values\n",
    "\n",
    "plt.contourf(lat2d)\n",
    "plt.colorbar()"
   ]
  },
  {
   "cell_type": "code",
   "execution_count": 92,
   "metadata": {
    "ExecuteTime": {
     "end_time": "2021-06-18T14:04:52.624839Z",
     "start_time": "2021-06-18T14:04:52.567287Z"
    }
   },
   "outputs": [
    {
     "name": "stdout",
     "output_type": "stream",
     "text": [
      "wrote to file: /data/home/liutongya/mixing/BINS/lat_tracer.bin\n"
     ]
    }
   ],
   "source": [
    "out_path = '/data/home/liutongya/mixing/BINS/'\n",
    "\n",
    "fn = out_path + 'lat_tracer.bin'\n",
    "lat2d = lat2d.astype('>f4')\n",
    "\n",
    "write_field(fn, lat2d)"
   ]
  },
  {
   "cell_type": "markdown",
   "metadata": {},
   "source": [
    "## WOA SST"
   ]
  },
  {
   "cell_type": "code",
   "execution_count": 93,
   "metadata": {
    "ExecuteTime": {
     "end_time": "2021-06-18T14:04:56.367334Z",
     "start_time": "2021-06-18T14:04:56.334108Z"
    }
   },
   "outputs": [
    {
     "name": "stderr",
     "output_type": "stream",
     "text": [
      "/data/home/liutongya/.conda/envs/geo_scipy/lib/python3.7/site-packages/xarray/coding/times.py:426: SerializationWarning: Unable to decode time axis into full numpy.datetime64 objects, continuing using cftime.datetime objects instead, reason: dates out of range\n",
      "  dtype = _decode_cf_datetime_dtype(data, units, calendar, self.use_cftime)\n",
      "/data/home/liutongya/.conda/envs/geo_scipy/lib/python3.7/site-packages/numpy/core/_asarray.py:85: SerializationWarning: Unable to decode time axis into full numpy.datetime64 objects, continuing using cftime.datetime objects instead, reason: dates out of range\n",
      "  return array(a, dtype, copy=False, order=order)\n"
     ]
    },
    {
     "data": {
      "text/html": [
       "<pre>&lt;xarray.Dataset&gt;\n",
       "Dimensions:      (LAT: 720, LEV1_1: 1, LON: 1440, TIME: 1, bnds: 2)\n",
       "Coordinates:\n",
       "  * LON          (LON) float64 -179.9 -179.6 -179.4 -179.1 ... 179.4 179.6 179.9\n",
       "  * LAT          (LAT) float64 -89.88 -89.62 -89.38 -89.12 ... 89.38 89.62 89.88\n",
       "  * LEV1_1       (LEV1_1) float64 0.0\n",
       "  * TIME         (TIME) object -001-01-15 00:00:00\n",
       "Dimensions without coordinates: bnds\n",
       "Data variables:\n",
       "    LEV1_1_bnds  (LEV1_1, bnds) float64 ...\n",
       "    TAN          (TIME, LEV1_1, LAT, LON) float32 ...\n",
       "Attributes:\n",
       "    history:      FERRET V6.5  17-Jun-21\n",
       "    Conventions:  CF-1.0</pre>"
      ],
      "text/plain": [
       "<xarray.Dataset>\n",
       "Dimensions:      (LAT: 720, LEV1_1: 1, LON: 1440, TIME: 1, bnds: 2)\n",
       "Coordinates:\n",
       "  * LON          (LON) float64 -179.9 -179.6 -179.4 -179.1 ... 179.4 179.6 179.9\n",
       "  * LAT          (LAT) float64 -89.88 -89.62 -89.38 -89.12 ... 89.38 89.62 89.88\n",
       "  * LEV1_1       (LEV1_1) float64 0.0\n",
       "  * TIME         (TIME) object -001-01-15 00:00:00\n",
       "Dimensions without coordinates: bnds\n",
       "Data variables:\n",
       "    LEV1_1_bnds  (LEV1_1, bnds) float64 ...\n",
       "    TAN          (TIME, LEV1_1, LAT, LON) float32 ...\n",
       "Attributes:\n",
       "    history:      FERRET V6.5  17-Jun-21\n",
       "    Conventions:  CF-1.0"
      ]
     },
     "execution_count": 93,
     "metadata": {},
     "output_type": "execute_result"
    }
   ],
   "source": [
    "ds = xr.open_dataset('/data/home/liutongya/mixing/data/woa_sst_2018.nc')\n",
    "ds"
   ]
  },
  {
   "cell_type": "code",
   "execution_count": 94,
   "metadata": {
    "ExecuteTime": {
     "end_time": "2021-06-18T14:04:58.738481Z",
     "start_time": "2021-06-18T14:04:58.143555Z"
    }
   },
   "outputs": [
    {
     "data": {
      "text/html": [
       "<pre>&lt;xarray.Dataset&gt;\n",
       "Dimensions:      (LAT: 720, LEV1_1: 1, LON: 1440, TIME: 1, bnds: 2)\n",
       "Coordinates:\n",
       "  * LAT          (LAT) float64 -89.88 -89.62 -89.38 -89.12 ... 89.38 89.62 89.88\n",
       "  * LEV1_1       (LEV1_1) float64 0.0\n",
       "  * TIME         (TIME) object -001-01-15 00:00:00\n",
       "  * LON          (LON) float64 0.125 0.375 0.625 0.875 ... 359.4 359.6 359.9\n",
       "Dimensions without coordinates: bnds\n",
       "Data variables:\n",
       "    LEV1_1_bnds  (LEV1_1, bnds) float64 ...\n",
       "    TAN          (TIME, LEV1_1, LAT, LON) float32 ...\n",
       "Attributes:\n",
       "    history:      FERRET V6.5  17-Jun-21\n",
       "    Conventions:  CF-1.0</pre>"
      ],
      "text/plain": [
       "<xarray.Dataset>\n",
       "Dimensions:      (LAT: 720, LEV1_1: 1, LON: 1440, TIME: 1, bnds: 2)\n",
       "Coordinates:\n",
       "  * LAT          (LAT) float64 -89.88 -89.62 -89.38 -89.12 ... 89.38 89.62 89.88\n",
       "  * LEV1_1       (LEV1_1) float64 0.0\n",
       "  * TIME         (TIME) object -001-01-15 00:00:00\n",
       "  * LON          (LON) float64 0.125 0.375 0.625 0.875 ... 359.4 359.6 359.9\n",
       "Dimensions without coordinates: bnds\n",
       "Data variables:\n",
       "    LEV1_1_bnds  (LEV1_1, bnds) float64 ...\n",
       "    TAN          (TIME, LEV1_1, LAT, LON) float32 ...\n",
       "Attributes:\n",
       "    history:      FERRET V6.5  17-Jun-21\n",
       "    Conventions:  CF-1.0"
      ]
     },
     "execution_count": 94,
     "metadata": {},
     "output_type": "execute_result"
    }
   ],
   "source": [
    "# convert -180-180 to 0-360\n",
    "lon_name = 'LON'  # whatever name is in the data\n",
    "\n",
    "# Adjust lon values\n",
    "ds['_longitude_adjusted'] = xr.where(\n",
    "    ds[lon_name] < 0,\n",
    "    ds[lon_name] + 360,\n",
    "    ds[lon_name])\n",
    "\n",
    "# reassign the new coords to as the main lon coords\n",
    "# and sort DataArray using new coordinate values\n",
    "\n",
    "ds = (ds.swap_dims({lon_name: '_longitude_adjusted'})\n",
    "      .sel(**{'_longitude_adjusted': sorted(ds._longitude_adjusted)}).drop(lon_name))\n",
    "ds = ds.rename({'_longitude_adjusted': lon_name})\n",
    "ds"
   ]
  },
  {
   "cell_type": "code",
   "execution_count": 113,
   "metadata": {
    "ExecuteTime": {
     "end_time": "2021-06-18T14:15:49.152652Z",
     "start_time": "2021-06-18T14:15:46.662715Z"
    }
   },
   "outputs": [],
   "source": [
    "sst = ds.TAN[0, 0, :, :].interp(LON=ds0.XC, LAT=ds0.YC)"
   ]
  },
  {
   "cell_type": "code",
   "execution_count": 121,
   "metadata": {
    "ExecuteTime": {
     "end_time": "2021-06-18T14:20:38.723621Z",
     "start_time": "2021-06-18T14:20:38.429715Z"
    }
   },
   "outputs": [],
   "source": [
    "sst = sst.interpolate_na(dim='XC', method='linear')"
   ]
  },
  {
   "cell_type": "code",
   "execution_count": 123,
   "metadata": {
    "ExecuteTime": {
     "end_time": "2021-06-18T14:21:22.990367Z",
     "start_time": "2021-06-18T14:21:19.691741Z"
    }
   },
   "outputs": [
    {
     "data": {
      "text/plain": [
       "<matplotlib.collections.QuadMesh at 0x7f8a17aa2490>"
      ]
     },
     "execution_count": 123,
     "metadata": {},
     "output_type": "execute_result"
    },
    {
     "data": {
      "image/png": "[encoded data removed]",
      "text/plain": [
       "<Figure size 432x288 with 2 Axes>"
      ]
     },
     "metadata": {
      "needs_background": "light"
     },
     "output_type": "display_data"
    }
   ],
   "source": [
    "sst = xr.where(ds0.maskC, sst, 0)\n",
    "sst.plot()"
   ]
  },
  {
   "cell_type": "code",
   "execution_count": 125,
   "metadata": {
    "ExecuteTime": {
     "end_time": "2021-06-18T14:23:28.267691Z",
     "start_time": "2021-06-18T14:23:28.144190Z"
    }
   },
   "outputs": [
    {
     "name": "stdout",
     "output_type": "stream",
     "text": [
      "wrote to file: /data/home/liutongya/mixing/BINS/sst_tracer.bin\n"
     ]
    }
   ],
   "source": [
    "sst_tracer = sst.values.astype('>f4')\n",
    "\n",
    "fn = out_path + 'sst_tracer.bin'\n",
    "\n",
    "write_field(fn, sst_tracer)"
   ]
  },
  {
   "cell_type": "markdown",
   "metadata": {},
   "source": [
    "## streamfunction"
   ]
  },
  {
   "cell_type": "code",
   "execution_count": null,
   "metadata": {},
   "outputs": [],
   "source": []
  }
 ],
 "metadata": {
  "hide_input": false,
  "kernelspec": {
   "display_name": "geo_scipy",
   "language": "python",
   "name": "geo_scipy"
  },
  "language_info": {
   "codemirror_mode": {
    "name": "ipython",
    "version": 3
   },
   "file_extension": ".py",
   "mimetype": "text/x-python",
   "name": "python",
   "nbconvert_exporter": "python",
   "pygments_lexer": "ipython3",
   "version": "3.7.6"
  },
  "toc": {
   "base_numbering": 1,
   "nav_menu": {},
   "number_sections": true,
   "sideBar": true,
   "skip_h1_title": false,
   "title_cell": "Table of Contents",
   "title_sidebar": "Contents",
   "toc_cell": false,
   "toc_position": {},
   "toc_section_display": true,
   "toc_window_display": false
  }
 },
 "nbformat": 4,
 "nbformat_minor": 4
}
